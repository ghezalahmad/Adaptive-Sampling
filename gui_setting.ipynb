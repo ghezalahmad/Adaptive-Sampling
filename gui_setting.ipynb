{
 "cells": [
  {
   "cell_type": "code",
   "execution_count": 8,
   "id": "f3913eeb-2a18-41e3-b1fb-b51f16d74757",
   "metadata": {},
   "outputs": [
    {
     "data": {
      "application/vnd.jupyter.widget-view+json": {
       "model_id": "97c75a91e2de4df780a8e6b1107ced03",
       "version_major": 2,
       "version_minor": 0
      },
      "text/plain": [
       "IntSlider(value=4, continuous_update=False, description='Initial Sample Size:', max=20, min=1)"
      ]
     },
     "metadata": {},
     "output_type": "display_data"
    },
    {
     "data": {
      "application/vnd.jupyter.widget-view+json": {
       "model_id": "f35fab14ac484109b797adc55f7cc876",
       "version_major": 2,
       "version_minor": 0
      },
      "text/plain": [
       "Dropdown(description='Experiment No.:', options=('17', '18'), value='17')"
      ]
     },
     "metadata": {},
     "output_type": "display_data"
    },
    {
     "data": {
      "application/vnd.jupyter.widget-view+json": {
       "model_id": "3b77a7c954044c0786d67ac21906fc30",
       "version_major": 2,
       "version_minor": 0
      },
      "text/plain": [
       "Dropdown(description='Model:', options=('LR+GPR', 'RF+GPR'), value='LR+GPR')"
      ]
     },
     "metadata": {},
     "output_type": "display_data"
    },
    {
     "data": {
      "application/vnd.jupyter.widget-view+json": {
       "model_id": "9f05dd707a4c4bb3a5972db7ddee7b97",
       "version_major": 2,
       "version_minor": 0
      },
      "text/plain": [
       "Button(description='Execute', style=ButtonStyle())"
      ]
     },
     "metadata": {},
     "output_type": "display_data"
    }
   ],
   "source": [
    "import ipywidgets as widgets\n",
    "from IPython.display import display\n",
    "\n",
    "# Widget to select the initial sample size\n",
    "sample_size_selector = widgets.IntSlider(\n",
    "    value=4,\n",
    "    min=1,\n",
    "    max=20,\n",
    "    step=1,\n",
    "    description='Initial Sample Size:',\n",
    "    continuous_update=False\n",
    ")\n",
    "\n",
    "# Widget to select the experiment number\n",
    "experiment_number_selector = widgets.Dropdown(\n",
    "    options=['17', '18'],\n",
    "    value='17',\n",
    "    description='Experiment No.:'\n",
    ")\n",
    "\n",
    "# Widget to select the model\n",
    "model_selector = widgets.Dropdown(\n",
    "    options=['LR+GPR', 'RF+GPR'],\n",
    "    value='LR+GPR',\n",
    "    description='Model:'\n",
    ")\n",
    "\n",
    "# Button to execute the process\n",
    "execute_button = widgets.Button(description='Execute')\n",
    "\n",
    "# Function to handle button click event\n",
    "def on_execute_button_clicked(b):\n",
    "    sample_size = sample_size_selector.value\n",
    "    experiment_number = experiment_number_selector.value\n",
    "    model = model_selector.value\n",
    "    \n",
    "    # Placeholder for the function that will handle the execution\n",
    "    # You need to implement this function based on how you plan to integrate or call your notebooks\n",
    "    print(f\"Executing with Sample Size: {sample_size}, Experiment No.: {experiment_number}, Model: {model}\")\n",
    "\n",
    "# Bind the button click event to the function\n",
    "execute_button.on_click(on_execute_button_clicked)\n",
    "\n",
    "# Display the widgets\n",
    "display(sample_size_selector, experiment_number_selector, model_selector, execute_button)\n"
   ]
  },
  {
   "cell_type": "code",
   "execution_count": 24,
   "id": "c5bc2000-6a15-4804-9c85-b0e643e4c049",
   "metadata": {},
   "outputs": [
    {
     "data": {
      "application/vnd.jupyter.widget-view+json": {
       "model_id": "a0b24c8475644d71a5ba17143a98c929",
       "version_major": 2,
       "version_minor": 0
      },
      "text/plain": [
       "IntSlider(value=4, continuous_update=False, description='Initial Sample Size:', max=20, min=1)"
      ]
     },
     "metadata": {},
     "output_type": "display_data"
    },
    {
     "data": {
      "application/vnd.jupyter.widget-view+json": {
       "model_id": "4efb72f5dab34f8da98571c896cebb53",
       "version_major": 2,
       "version_minor": 0
      },
      "text/plain": [
       "Dropdown(description='Experiment No.:', options=('17', '18'), value='17')"
      ]
     },
     "metadata": {},
     "output_type": "display_data"
    },
    {
     "data": {
      "application/vnd.jupyter.widget-view+json": {
       "model_id": "06caebe1d87e4d428cc5abbb74ae3cfc",
       "version_major": 2,
       "version_minor": 0
      },
      "text/plain": [
       "Dropdown(description='Model:', options=('LR+GPR', 'RF+GPR'), value='LR+GPR')"
      ]
     },
     "metadata": {},
     "output_type": "display_data"
    },
    {
     "data": {
      "application/vnd.jupyter.widget-view+json": {
       "model_id": "7aa7d2a2fd644f7aba5fb98478479c6b",
       "version_major": 2,
       "version_minor": 0
      },
      "text/plain": [
       "Button(description='Execute', style=ButtonStyle())"
      ]
     },
     "metadata": {},
     "output_type": "display_data"
    }
   ],
   "source": [
    "import ipywidgets as widgets\n",
    "from IPython.display import display\n",
    "import papermill as pm\n",
    "\n",
    "# Widget to select the initial sample size\n",
    "sample_size_selector = widgets.IntSlider(\n",
    "    value=4,\n",
    "    min=1,\n",
    "    max=20,\n",
    "    step=1,\n",
    "    description='Initial Sample Size:',\n",
    "    continuous_update=False\n",
    ")\n",
    "\n",
    "# Widget to select the experiment number\n",
    "experiment_number_selector = widgets.Dropdown(\n",
    "    options=['17', '18'],\n",
    "    value='17',\n",
    "    description='Experiment No.:'\n",
    ")\n",
    "\n",
    "# Widget to select the model\n",
    "model_selector = widgets.Dropdown(\n",
    "    options=['LR+GPR', 'RF+GPR'],\n",
    "    value='LR+GPR',\n",
    "    description='Model:'\n",
    ")\n",
    "\n",
    "# Button to execute the process\n",
    "execute_button = widgets.Button(description='Execute')\n",
    "\n",
    "# Function to handle button click event\n",
    "def on_execute_button_clicked(b):\n",
    "    sample_size = sample_size_selector.value\n",
    "    experiment_number = experiment_number_selector.value\n",
    "    model = model_selector.value\n",
    "    \n",
    "    # Execute the relevant notebook with parameters\n",
    "    if model == 'LR+GPR':\n",
    "        pm.execute_notebook(\n",
    "           'Logistic_Regression_AS.ipynb',\n",
    "           'output_lr.ipynb',  # Output notebook\n",
    "           parameters=dict(sample_size=sample_size, experiment_number=experiment_number)\n",
    "        )\n",
    "    elif model == 'RF+GPR':\n",
    "        pm.execute_notebook(\n",
    "           'Random_Forest_AS.ipynb',\n",
    "           'output_rf.ipynb',  # Output notebook\n",
    "           parameters=dict(sample_size=sample_size, experiment_number=experiment_number)\n",
    "        )\n",
    "\n",
    "# Bind the button click event to the function\n",
    "execute_button.on_click(on_execute_button_clicked)\n",
    "\n",
    "# Display the widgets\n",
    "display(sample_size_selector, experiment_number_selector, model_selector, execute_button)\n"
   ]
  },
  {
   "cell_type": "code",
   "execution_count": null,
   "id": "f11b072b-4d0c-4957-ab8e-5772b160e6c1",
   "metadata": {},
   "outputs": [],
   "source": []
  }
 ],
 "metadata": {
  "kernelspec": {
   "display_name": "Python 3 (ipykernel)",
   "language": "python",
   "name": "python3"
  },
  "language_info": {
   "codemirror_mode": {
    "name": "ipython",
    "version": 3
   },
   "file_extension": ".py",
   "mimetype": "text/x-python",
   "name": "python",
   "nbconvert_exporter": "python",
   "pygments_lexer": "ipython3",
   "version": "3.11.8"
  }
 },
 "nbformat": 4,
 "nbformat_minor": 5
}
